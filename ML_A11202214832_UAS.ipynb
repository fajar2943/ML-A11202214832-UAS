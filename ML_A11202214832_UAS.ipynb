{
  "nbformat": 4,
  "nbformat_minor": 0,
  "metadata": {
    "colab": {
      "provenance": [],
      "authorship_tag": "ABX9TyMSaaOqBcFqQUbgtk+ob6V/",
      "include_colab_link": true
    },
    "kernelspec": {
      "name": "python3",
      "display_name": "Python 3"
    },
    "language_info": {
      "name": "python"
    }
  },
  "cells": [
    {
      "cell_type": "markdown",
      "metadata": {
        "id": "view-in-github",
        "colab_type": "text"
      },
      "source": [
        "<a href=\"https://colab.research.google.com/github/fajar2943/ML-A11202214832-UAS/blob/main/ML_A11202214832_UAS.ipynb\" target=\"_parent\"><img src=\"https://colab.research.google.com/assets/colab-badge.svg\" alt=\"Open In Colab\"/></a>"
      ]
    },
    {
      "cell_type": "markdown",
      "source": [
        "**Filter SMS Spam menggunakan Decision Tree**"
      ],
      "metadata": {
        "id": "JKGDCwqX4uas"
      }
    },
    {
      "cell_type": "markdown",
      "source": [
        "Nama : Fajar Lintang Gumilang"
      ],
      "metadata": {
        "id": "W3sbJJro5Mau"
      }
    },
    {
      "cell_type": "markdown",
      "source": [
        "Nim : A11.2022.14832"
      ],
      "metadata": {
        "id": "zp9CC8xD5WeZ"
      }
    },
    {
      "cell_type": "markdown",
      "source": [
        "**Ringkasan & Permasalahan projek** = SMS spam adalah masalah yang umum dialami pengguna ponsel. Pesan-pesan spam ini dapat mengganggu dan bahkan berbahaya. Penyalahgunaan perangkat elektronik untuk mengirimkan pesan secara berulang-ulang dan tanpa dikehendaki oleh penerimanya atau yang biasa disebut spam SMS ini cukup merugikan para pengguna ponsel pintar."
      ],
      "metadata": {
        "id": "JphTcsES5f4Z"
      }
    },
    {
      "cell_type": "markdown",
      "source": [
        "**Bagan Alur Penyelesaian**"
      ],
      "metadata": {
        "id": "XWIPrIgZdxN_"
      }
    },
    {
      "cell_type": "markdown",
      "source": [
        "![machine learning.drawio.png](data:image/png;base64,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)"
      ],
      "metadata": {
        "id": "rt0lrQVEdpR0"
      }
    },
    {
      "cell_type": "markdown",
      "source": [
        "**Tujuan yang akan dicapai** = saya akan mencoba menggunakan metode decision tree untuk melakukan klasifikasi pesan. Filter ini dapat memblokir pesan-pesan spam, baik yang mengandung unsur penipuan maupun promosi.\n"
      ],
      "metadata": {
        "id": "JHFm_wrx7lqX"
      }
    },
    {
      "cell_type": "markdown",
      "source": [
        "**Dataset** = Saya menggunakan data primer dengan instrumen pengumpulan data yang saya lakukan yaitu menggunakan kuesioner yang berbentuk google form. dalam google form tersebut berisi mengenai teks sms yang terdiri dari 3 kategori sms yaitu normal, penipuan, promosi."
      ],
      "metadata": {
        "id": "c7bX3rri8naa"
      }
    },
    {
      "cell_type": "markdown",
      "source": [
        "Import Library"
      ],
      "metadata": {
        "id": "bvyvTlFjVwBQ"
      }
    },
    {
      "cell_type": "code",
      "source": [
        "import pandas as pd\n",
        "from sklearn.model_selection import train_test_split\n",
        "from sklearn.feature_extraction.text import TfidfVectorizer\n",
        "from sklearn.tree import DecisionTreeClassifier"
      ],
      "metadata": {
        "id": "MOTMQ9sZV0iT"
      },
      "execution_count": 57,
      "outputs": []
    },
    {
      "cell_type": "markdown",
      "source": [
        "**Membaca Dataset** = Menggunakan pandas untuk membaca file CSV dataset_sms.csv."
      ],
      "metadata": {
        "id": "3cM22WYoYdQH"
      }
    },
    {
      "cell_type": "code",
      "source": [
        "data = pd.read_csv('/content/dataset_sms.csv')"
      ],
      "metadata": {
        "id": "MBiTS_KCWApL"
      },
      "execution_count": 58,
      "outputs": []
    },
    {
      "cell_type": "markdown",
      "source": [
        "Menyimpan data Teks dan label ke dalam variabel X dan y masing-masing."
      ],
      "metadata": {
        "id": "HthJhu6nYpgo"
      }
    },
    {
      "cell_type": "code",
      "source": [
        "X = data['Teks']\n",
        "y = data['label']"
      ],
      "metadata": {
        "id": "qHF4FuZ-WE8K"
      },
      "execution_count": 59,
      "outputs": []
    },
    {
      "cell_type": "markdown",
      "source": [
        "Menggunakan train_test_split dari sklearn.model_selection untuk membagi dataset menjadi data training dan data testing."
      ],
      "metadata": {
        "id": "OZ9n26v7Yyz4"
      }
    },
    {
      "cell_type": "code",
      "source": [
        "X_train, X_test, y_train, y_test = train_test_split(X, y, test_size=0.2)"
      ],
      "metadata": {
        "id": "QT0Z4SfjWM1z"
      },
      "execution_count": 60,
      "outputs": []
    },
    {
      "cell_type": "markdown",
      "source": [
        "Mengubah data Teks menjadi vektor numerik"
      ],
      "metadata": {
        "id": "uvSleJ6cY9Ym"
      }
    },
    {
      "cell_type": "code",
      "source": [
        "vectorizer = TfidfVectorizer()\n",
        "X_train_tfidf = vectorizer.fit_transform(X_train)\n",
        "X_test_tfidf = vectorizer.transform(X_test)"
      ],
      "metadata": {
        "id": "3wkb0hOsWQdk"
      },
      "execution_count": 61,
      "outputs": []
    },
    {
      "cell_type": "markdown",
      "source": [
        "Melatih model decision tree, Menggunakan DecisionTreeClassifier dari sklearn.tree untuk membuat model decision tree"
      ],
      "metadata": {
        "id": "cvcpCYyqZEfh"
      }
    },
    {
      "cell_type": "code",
      "source": [
        "# Melatih model decision tree\n",
        "model = DecisionTreeClassifier()\n",
        "model.fit(X_train_tfidf, y_train)"
      ],
      "metadata": {
        "colab": {
          "base_uri": "https://localhost:8080/",
          "height": 75
        },
        "id": "hUUAqAW-WUAm",
        "outputId": "b330afc3-a73c-43ea-c624-824fbdff944e"
      },
      "execution_count": 62,
      "outputs": [
        {
          "output_type": "execute_result",
          "data": {
            "text/plain": [
              "DecisionTreeClassifier()"
            ],
            "text/html": [
              "<style>#sk-container-id-3 {color: black;background-color: white;}#sk-container-id-3 pre{padding: 0;}#sk-container-id-3 div.sk-toggleable {background-color: white;}#sk-container-id-3 label.sk-toggleable__label {cursor: pointer;display: block;width: 100%;margin-bottom: 0;padding: 0.3em;box-sizing: border-box;text-align: center;}#sk-container-id-3 label.sk-toggleable__label-arrow:before {content: \"▸\";float: left;margin-right: 0.25em;color: #696969;}#sk-container-id-3 label.sk-toggleable__label-arrow:hover:before {color: black;}#sk-container-id-3 div.sk-estimator:hover label.sk-toggleable__label-arrow:before {color: black;}#sk-container-id-3 div.sk-toggleable__content {max-height: 0;max-width: 0;overflow: hidden;text-align: left;background-color: #f0f8ff;}#sk-container-id-3 div.sk-toggleable__content pre {margin: 0.2em;color: black;border-radius: 0.25em;background-color: #f0f8ff;}#sk-container-id-3 input.sk-toggleable__control:checked~div.sk-toggleable__content {max-height: 200px;max-width: 100%;overflow: auto;}#sk-container-id-3 input.sk-toggleable__control:checked~label.sk-toggleable__label-arrow:before {content: \"▾\";}#sk-container-id-3 div.sk-estimator input.sk-toggleable__control:checked~label.sk-toggleable__label {background-color: #d4ebff;}#sk-container-id-3 div.sk-label input.sk-toggleable__control:checked~label.sk-toggleable__label {background-color: #d4ebff;}#sk-container-id-3 input.sk-hidden--visually {border: 0;clip: rect(1px 1px 1px 1px);clip: rect(1px, 1px, 1px, 1px);height: 1px;margin: -1px;overflow: hidden;padding: 0;position: absolute;width: 1px;}#sk-container-id-3 div.sk-estimator {font-family: monospace;background-color: #f0f8ff;border: 1px dotted black;border-radius: 0.25em;box-sizing: border-box;margin-bottom: 0.5em;}#sk-container-id-3 div.sk-estimator:hover {background-color: #d4ebff;}#sk-container-id-3 div.sk-parallel-item::after {content: \"\";width: 100%;border-bottom: 1px solid gray;flex-grow: 1;}#sk-container-id-3 div.sk-label:hover label.sk-toggleable__label {background-color: #d4ebff;}#sk-container-id-3 div.sk-serial::before {content: \"\";position: absolute;border-left: 1px solid gray;box-sizing: border-box;top: 0;bottom: 0;left: 50%;z-index: 0;}#sk-container-id-3 div.sk-serial {display: flex;flex-direction: column;align-items: center;background-color: white;padding-right: 0.2em;padding-left: 0.2em;position: relative;}#sk-container-id-3 div.sk-item {position: relative;z-index: 1;}#sk-container-id-3 div.sk-parallel {display: flex;align-items: stretch;justify-content: center;background-color: white;position: relative;}#sk-container-id-3 div.sk-item::before, #sk-container-id-3 div.sk-parallel-item::before {content: \"\";position: absolute;border-left: 1px solid gray;box-sizing: border-box;top: 0;bottom: 0;left: 50%;z-index: -1;}#sk-container-id-3 div.sk-parallel-item {display: flex;flex-direction: column;z-index: 1;position: relative;background-color: white;}#sk-container-id-3 div.sk-parallel-item:first-child::after {align-self: flex-end;width: 50%;}#sk-container-id-3 div.sk-parallel-item:last-child::after {align-self: flex-start;width: 50%;}#sk-container-id-3 div.sk-parallel-item:only-child::after {width: 0;}#sk-container-id-3 div.sk-dashed-wrapped {border: 1px dashed gray;margin: 0 0.4em 0.5em 0.4em;box-sizing: border-box;padding-bottom: 0.4em;background-color: white;}#sk-container-id-3 div.sk-label label {font-family: monospace;font-weight: bold;display: inline-block;line-height: 1.2em;}#sk-container-id-3 div.sk-label-container {text-align: center;}#sk-container-id-3 div.sk-container {/* jupyter's `normalize.less` sets `[hidden] { display: none; }` but bootstrap.min.css set `[hidden] { display: none !important; }` so we also need the `!important` here to be able to override the default hidden behavior on the sphinx rendered scikit-learn.org. See: https://github.com/scikit-learn/scikit-learn/issues/21755 */display: inline-block !important;position: relative;}#sk-container-id-3 div.sk-text-repr-fallback {display: none;}</style><div id=\"sk-container-id-3\" class=\"sk-top-container\"><div class=\"sk-text-repr-fallback\"><pre>DecisionTreeClassifier()</pre><b>In a Jupyter environment, please rerun this cell to show the HTML representation or trust the notebook. <br />On GitHub, the HTML representation is unable to render, please try loading this page with nbviewer.org.</b></div><div class=\"sk-container\" hidden><div class=\"sk-item\"><div class=\"sk-estimator sk-toggleable\"><input class=\"sk-toggleable__control sk-hidden--visually\" id=\"sk-estimator-id-3\" type=\"checkbox\" checked><label for=\"sk-estimator-id-3\" class=\"sk-toggleable__label sk-toggleable__label-arrow\">DecisionTreeClassifier</label><div class=\"sk-toggleable__content\"><pre>DecisionTreeClassifier()</pre></div></div></div></div></div>"
            ]
          },
          "metadata": {},
          "execution_count": 62
        }
      ]
    },
    {
      "cell_type": "markdown",
      "source": [
        "Melakukan prediksi pada data testing"
      ],
      "metadata": {
        "id": "6Ti3kcZuZYFI"
      }
    },
    {
      "cell_type": "code",
      "source": [
        "y_pred = model.predict(X_test_tfidf)"
      ],
      "metadata": {
        "id": "tTD9ZRGBWX99"
      },
      "execution_count": 63,
      "outputs": []
    },
    {
      "cell_type": "markdown",
      "source": [
        "Menggunakan accuracy_score dari sklearn.metrics untuk menghitung akurasi model."
      ],
      "metadata": {
        "id": "ZTMEMCXBZgiT"
      }
    },
    {
      "cell_type": "code",
      "source": [
        "# Evaluasi performa model\n",
        "from sklearn.metrics import accuracy_score\n",
        "accuracy = accuracy_score(y_test, y_pred)\n",
        "print('Akurasi model:', accuracy)"
      ],
      "metadata": {
        "colab": {
          "base_uri": "https://localhost:8080/"
        },
        "id": "vCFVizh-WbK4",
        "outputId": "60100f7b-bbc1-46b9-acb0-7beeb4c40ad8"
      },
      "execution_count": 65,
      "outputs": [
        {
          "output_type": "stream",
          "name": "stdout",
          "text": [
            "Akurasi model: 0.8739130434782608\n"
          ]
        }
      ]
    },
    {
      "cell_type": "markdown",
      "source": [
        "**Performa Model** = Tingkat akurasi yang dihasilkan dari model Decision Tree yaitu 0.8739130434782608 atau sekitar 87% prediksi benar, Akurasi menunjukkan seberapa baik model dapat memprediksi label yang benar untuk data SMS baru. Semakin tinggi akurasi, semakin baik performa model."
      ],
      "metadata": {
        "id": "0fetKywRWhQK"
      }
    },
    {
      "cell_type": "markdown",
      "source": [
        "**Hasil dan Kesimpulan** = Decision tree adalah salah satu algoritma machine learning yang populer dan mudah digunakan untuk klasifikasi. Algoritma ini dapat digunakan untuk memprediksi kategori SMS berdasarkan klasifikasinya entah itu sms normal, promosi maupun penipuan."
      ],
      "metadata": {
        "id": "RgRZzzrkWy7I"
      }
    }
  ]
}